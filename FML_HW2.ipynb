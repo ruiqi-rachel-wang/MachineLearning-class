{
  "cells": [
    {
      "cell_type": "markdown",
      "metadata": {
        "id": "view-in-github",
        "colab_type": "text"
      },
      "source": [
        "<a href=\"https://colab.research.google.com/github/ruiqi-rachel-wang/MachineLearning-class/blob/main/FML_HW2.ipynb\" target=\"_parent\"><img src=\"https://colab.research.google.com/assets/colab-badge.svg\" alt=\"Open In Colab\"/></a>"
      ]
    },
    {
      "cell_type": "markdown",
      "metadata": {
        "id": "bKXNjhiaxxUi"
      },
      "source": [
        "# Fundamentals of Machine Learning (CSCI-UA.473)\n",
        "\n",
        "## Homework 2\n",
        "### Due: October 26th, 2023 at 11:59PM\n",
        "\n",
        "### Name: Ruiqi Wang\n",
        "### Email: rw2799@nyu.edu"
      ]
    },
    {
      "cell_type": "code",
      "source": [
        "from google.colab import drive\n",
        "drive.mount('/content/drive')"
      ],
      "metadata": {
        "colab": {
          "base_uri": "https://localhost:8080/"
        },
        "id": "2-Qegkzl4WOe",
        "outputId": "12aec6be-bdde-4a43-efd9-f6a475eb77f1"
      },
      "execution_count": null,
      "outputs": [
        {
          "output_type": "stream",
          "name": "stdout",
          "text": [
            "Mounted at /content/drive\n"
          ]
        }
      ]
    },
    {
      "cell_type": "code",
      "execution_count": null,
      "metadata": {
        "id": "AVL473j7W0CB"
      },
      "outputs": [],
      "source": [
        "import numpy as np\n",
        "import pandas as pd\n",
        "from sklearn.model_selection import train_test_split\n",
        "\n",
        "## Use the same dataset that was released with HW1\n",
        "data = pd.read_csv('/content/FML2023_HW1_Dataset.csv')\n",
        "# Separate the features, target values, and feature names\n",
        "X = data.drop('target', axis=1)\n",
        "y = data['target'].values\n",
        "X =X.to_numpy()\n",
        "\n",
        "\n",
        "# Split the data into training and testing sets\n",
        "X_train, X_test, y_train, y_test = train_test_split(X, y, test_size=0.2, random_state=42)"
      ]
    },
    {
      "cell_type": "markdown",
      "metadata": {
        "id": "oD2ESfcW7ai7"
      },
      "source": [
        "### Question 1: Maximum Likelihood Estimation (MLE) vs Maximum A Posteriori (MAP) (25 points)\n",
        "\n",
        "In Homework 1, we performed linear and ridge regression. To summarize:\n",
        "\n",
        "In Linear regression,\n",
        "\n",
        "$$\\beta = \\arg\\min_{\\beta}\\sum\\left(y_i - \\left(\\beta_0 + \\beta_1 x_{1i} +, \\ldots, + \\beta_px_{p i}\\right)\\right)^2$$\n",
        "\n",
        "\n",
        "* $J(\\beta)$ is the cost function.\n",
        "* $\\beta_0,\\ldots,\\beta_p$ are the coefficients for the features.\n",
        "* $x_{1i}$ represents the values of the feature for the i-th observation.\n",
        "* $y_i$ is the target value for the i-th observation.\n",
        "\n",
        "For ridge regression\n",
        "\n",
        "$$J(\\beta) = \\sum\\left(y_i - \\left(\\beta_0 + \\beta_1 x_{1i} +, \\ldots, + \\beta_px_{p i}\\right)\\right)^2 + \\lambda \\cdot \\sum \\beta_i^2$$\n",
        "\n",
        "* $\\lambda$ is the regularization hyper-parameter.\n",
        "\n",
        "**Task 1.1 (5 points)** Linear regression embodies Maximum Likelihood Estimation (MLE). Show that a closed form expression is $$\\beta = (\\mathbf{A}^\\top \\mathbf{A})^{-1}\\mathbf{A}^\\top \\mathbf{Y}$$ where $\\mathbf{A} = [X_1,\\ldots,X_n]$ and $\\mathbf{Y} = [Y_1,\\ldots,Y_n]$.\n",
        "\n",
        "**Task 1.2 (5 points)**: Ridge regression embodies Maximum A Posteriori (MAP), wherein the regularizer serves as the prior. Show that a closed form expression for the ridge estimator is $$\\beta = (\\mathbf{A}^\\top \\mathbf{A} + \\lambda I)^{-1}\\mathbf{A}^\\top \\mathbf{Y}$$ where $\\mathbf{A} = [X_1,\\ldots,X_n]$ and $\\mathbf{Y} = [Y_1,\\ldots,Y_n]$.\n",
        "\n",
        "**Task 1.3 Implementation (10 points):** Fill in the code below to differentiate between MLE and MAP.\n",
        "\n",
        "**Task 1.4 (5 points):**\n",
        "* Do MLE and MAP yield distinct solutions as the sample size tends to infinity? Explain your answer.\n",
        "\n",
        "* Will the impact of prior be greater with a small or large sample size, and what is the underlying rationale for this phenomenon?\n",
        "\n"
      ]
    },
    {
      "cell_type": "markdown",
      "source": [
        "1.1\n",
        "\n",
        "set gradient to zero, then $∇J(\\beta)=0$, for each β $∂J/∂β=-2∑x_{ji}(y_i-(β_0+β_1x_{1i}...))$, so $A^TAβ=A^TY$, $β=(A^TA)^{-1}A^TY$\n",
        "\n",
        "1.2\n",
        "\n",
        "set gradient to zero, then $∇J(\\beta)=0$, for each β $∂J/∂β=-2∑x_{ji}(y_i-(β_0+β_1x_{1i}...))+2λβ_j$, so $A^TAβ+λIβ=A^TY$, $β=(A^TA+λI)^{-1}A^TY$\n",
        "\n",
        "1.4\n",
        "\n",
        "It will yield same solution since the impact of the prior in MAP diminished and the solution of both tend to converge.\n",
        "\n",
        "Small sample size. It can potentially preventing overfitting. As size grows, relative infulence of proior reduces, making solutions more alike."
      ],
      "metadata": {
        "id": "PumwPxe9yDFl"
      }
    },
    {
      "cell_type": "code",
      "execution_count": null,
      "metadata": {
        "id": "oleMgs0V7Zsl",
        "colab": {
          "base_uri": "https://localhost:8080/"
        },
        "outputId": "af261b1f-06ab-4519-9937-263d09cb21e2"
      },
      "outputs": [
        {
          "output_type": "stream",
          "name": "stdout",
          "text": [
            "MSE using MLE: 2900.1936284934827\n"
          ]
        }
      ],
      "source": [
        "def mle_linear_regression(X, y):\n",
        "  X_bias = np.c_[np.ones(X.shape[0]), X]\n",
        "  theta_mle = np.linalg.inv(X_bias.T @ X_bias) @ X_bias.T @ y\n",
        "  return theta_mle\n",
        "\n",
        "# Calculate MLE estimates without bias\n",
        "theta_mle = mle_linear_regression(X_train, y_train)\n",
        "\n",
        "# Make predictions on the test set\n",
        "y_preds = np.dot(np.c_[np.ones(X_test.shape[0]), X_test], theta_mle)\n",
        "\n",
        "# Calculate Mean Squared Error (MSE)\n",
        "mse_mle = np.mean((y_test - y_preds)**2)\n",
        "print(f\"MSE using MLE: {mse_mle}\")"
      ]
    },
    {
      "cell_type": "code",
      "execution_count": null,
      "metadata": {
        "id": "cqvfD-8uF-Jl",
        "colab": {
          "base_uri": "https://localhost:8080/"
        },
        "outputId": "87955d9c-8a4e-477a-fe4a-bcf4b2901988"
      },
      "outputs": [
        {
          "output_type": "stream",
          "name": "stdout",
          "text": [
            "MSE using MAP: 2882.2901804060125\n"
          ]
        }
      ],
      "source": [
        "def map_linear_regression(X, y, lambda_reg):\n",
        "  X_bias = np.c_[np.ones(X.shape[0]), X]\n",
        "  I = np.identity(X_bias.shape[1])\n",
        "  I[0, 0] = 0\n",
        "  theta_map = np.linalg.inv(X_bias.T @ X_bias + lambda_reg * I) @ X_bias.T @ y\n",
        "  return theta_map\n",
        "\n",
        "# Set the regularization parameter (lambda)\n",
        "lambda_reg = 0.01\n",
        "theta_map = map_linear_regression(X_train, y_train, lambda_reg)\n",
        "\n",
        "# Make predictions on the test set\n",
        "y_preds = np.dot(np.c_[np.ones(X_test.shape[0]), X_test], theta_map)\n",
        "\n",
        "# Calculate Mean Squared Error (MSE)\n",
        "mse_map = np.mean((y_test - y_preds)**2)\n",
        "print(f\"MSE using MAP: {mse_map}\")"
      ]
    },
    {
      "cell_type": "markdown",
      "metadata": {
        "id": "RwH8gND4XGvE"
      },
      "source": [
        "### Question 2: Classification with imbalanced dataset (20 points)\n",
        "\n",
        "We are creating an imbalanced version of the target variable for the Z dataset. An imbalanced dataset means that one class is much more frequent than the other class. In our case, we will consider the two classes as follows:\n",
        "\n",
        "- Class 0: Z progression values that are below the 75th percentile of the original target variable.\n",
        "- Class 1: Z progression values that are above the 75th percentile of the original target variable.\n",
        "\n",
        "By doing this, we are creating an imbalance where Class 0 will be more prevalent than Class 1, mimicking a common scenario in real-world imbalanced datasets."
      ]
    },
    {
      "cell_type": "code",
      "execution_count": null,
      "metadata": {
        "id": "dQMA6OPsXD49"
      },
      "outputs": [],
      "source": [
        "from sklearn.utils import shuffle\n",
        "from sklearn.model_selection import train_test_split\n",
        "\n",
        "# Shuffle the data\n",
        "X, y = shuffle(X, y, random_state=42)\n",
        "\n",
        "# Create an imbalanced target variable\n",
        "y_imbalanced = np.where(y > np.percentile(y, 75), 1, 0)\n",
        "\n",
        "X_train, X_test, y_train, y_test = train_test_split(X, y_imbalanced, test_size=0.2, random_state=42)"
      ]
    },
    {
      "cell_type": "markdown",
      "metadata": {
        "id": "FJiy4EyUYX93"
      },
      "source": [
        "\n",
        "**Task 2.1 (3 points):**\n",
        "- Create a SVM classifier with a linear kernel, then calculate accuracy, precision, recall, and F1 score using available library functions."
      ]
    },
    {
      "cell_type": "code",
      "execution_count": null,
      "metadata": {
        "id": "eKLZyXkwSDw0",
        "colab": {
          "base_uri": "https://localhost:8080/"
        },
        "outputId": "099c8ebf-d74b-4a65-e5e1-5aecaf1f0740"
      },
      "outputs": [
        {
          "output_type": "stream",
          "name": "stdout",
          "text": [
            "Accuracy: 0.8426966292134831\n",
            "Precision: 0.0\n",
            "Recall: 0.0\n",
            "F1: 0.0\n"
          ]
        },
        {
          "output_type": "stream",
          "name": "stderr",
          "text": [
            "/usr/local/lib/python3.10/dist-packages/sklearn/metrics/_classification.py:1344: UndefinedMetricWarning: Precision is ill-defined and being set to 0.0 due to no predicted samples. Use `zero_division` parameter to control this behavior.\n",
            "  _warn_prf(average, modifier, msg_start, len(result))\n"
          ]
        }
      ],
      "source": [
        "### Add code here\n",
        "from sklearn.svm import SVC\n",
        "from sklearn.metrics import accuracy_score, precision_score, recall_score, f1_score\n",
        "svm_c=SVC(kernel='linear',random_state=42)\n",
        "svm_c.fit(X_train, y_train)\n",
        "y_pred=svm_c.predict(X_test)\n",
        "\n",
        "print(\"Accuracy:\", accuracy_score(y_test, y_pred))\n",
        "print(\"Precision:\", precision_score(y_test, y_pred))\n",
        "print(\"Recall:\", recall_score(y_test, y_pred))\n",
        "print(\"F1:\", f1_score(y_test, y_pred))\n"
      ]
    },
    {
      "cell_type": "markdown",
      "metadata": {
        "id": "i6mJ3w9TbWHT"
      },
      "source": [
        "\n",
        "**Task 2.2 (5 points):** What causes the metrics to exhibit lower values for the imbalanced dataset compared to those in homework 1?"
      ]
    },
    {
      "cell_type": "markdown",
      "source": [
        "2.2: It may because of the skewed distribution of classes. Classifiers tend to be biased towards majority class, resulting in poorer performance on minority class."
      ],
      "metadata": {
        "id": "tfACxaufgMtU"
      }
    },
    {
      "cell_type": "markdown",
      "metadata": {
        "id": "QPYn44O40aKX"
      },
      "source": [
        "**Random oversampling** is one of the many techniques used to address the class imbalance problem. It involves increasing the number of instances in the minority class by randomly duplicating existing instances. This helps to balance the class distribution and can lead to improved performance for certain models.\n",
        "\n",
        "**Task 2.3 (2 points):** Calculate and display the following statistics for the target variable (y) before applying random oversampling:\n",
        "  - Mean\n",
        "  - Standard Deviation\n",
        "  - Minimum\n",
        "  - Maximum\n",
        "\n",
        "**Task 2.4 (5 points):** Perform random oversampling on the training set. After oversampling, calculate and display the same statistics for the oversampled target variable."
      ]
    },
    {
      "cell_type": "code",
      "execution_count": null,
      "metadata": {
        "id": "PItrNXNsX7ou",
        "colab": {
          "base_uri": "https://localhost:8080/"
        },
        "outputId": "1522708f-f785-4f48-f184-250139b83d86"
      },
      "outputs": [
        {
          "output_type": "stream",
          "name": "stdout",
          "text": [
            "Mean (Oversampled): before 152.13348416289594 after: 0.5\n",
            "Standard Deviation (Oversampled): before 77.00574586945044 after: 0.5\n",
            "Minimum (Oversampled): before 25.0 after: 0\n",
            "Maximum (Oversampled): before 346.0 after: 1\n"
          ]
        }
      ],
      "source": [
        "# Apply Random Oversampling\n",
        "import numpy as np\n",
        "\n",
        "mean_y = np.mean(y)\n",
        "std_y = np.std(y)\n",
        "min_y = np.min(y)\n",
        "max_y = np.max(y)\n",
        "\n",
        "from imblearn.over_sampling import RandomOverSampler\n",
        "\n",
        "ros = RandomOverSampler(random_state=42)\n",
        "\n",
        "X_train_res, y_train_res = ros.fit_resample(X_train, y_train)\n",
        "\n",
        "mean_y_res = np.mean(y_train_res)\n",
        "std_y_res = np.std(y_train_res)\n",
        "min_y_res = np.min(y_train_res)\n",
        "max_y_res = np.max(y_train_res)\n",
        "\n",
        "print(\"Mean (Oversampled): before\", mean_y, \"after:\", mean_y_res)\n",
        "print(\"Standard Deviation (Oversampled): before\", std_y, \"after:\", std_y_res)\n",
        "print(\"Minimum (Oversampled): before\", min_y, \"after:\", min_y_res)\n",
        "print(\"Maximum (Oversampled): before\", max_y, \"after:\", max_y_res)\n"
      ]
    },
    {
      "cell_type": "markdown",
      "metadata": {
        "id": "Oel3kCeV2tOM"
      },
      "source": [
        "**Task 2.5 (5 points):**\n",
        "- Create another instance of SVM classifier with linear kernel, fit it on the oversampled data and calculate all the prior metrics for the oversampled model.\n",
        "- Show the metrics with different regularization parameters {0.1, 1, 10, 100} on the linear kernel.\n",
        "- Show the metrics with polynomial degrees {-1, 0, 3, 4} and observe how the model's complexity changes.\n",
        "- Introduce different values for the regularization parameter in the RBF kernel and show how it balances the trade-off between maximizing the margin and minimizing classification error."
      ]
    },
    {
      "cell_type": "code",
      "execution_count": null,
      "metadata": {
        "id": "LeictOez24d9",
        "colab": {
          "base_uri": "https://localhost:8080/"
        },
        "outputId": "ed073cec-c4b3-4108-b775-2421626f7178"
      },
      "outputs": [
        {
          "output_type": "stream",
          "name": "stdout",
          "text": [
            "Accuracy (Oversampled): 0.7752808988764045\n",
            "Precision (Oversampled): 0.40625\n",
            "Recall (Oversampled): 0.9285714285714286\n",
            "F1 Score (Oversampled): 0.5652173913043478\n",
            "\n",
            "C = 0.1\n",
            "Accuracy: 0.7415730337078652\n",
            "Precision: 0.37142857142857144\n",
            "Recall: 0.9285714285714286\n",
            "F1 Score: 0.5306122448979592\n",
            "\n",
            "C = 1\n",
            "Accuracy: 0.7752808988764045\n",
            "Precision: 0.40625\n",
            "Recall: 0.9285714285714286\n",
            "F1 Score: 0.5652173913043478\n",
            "\n",
            "C = 10\n",
            "Accuracy: 0.7865168539325843\n",
            "Precision: 0.4\n",
            "Recall: 0.7142857142857143\n",
            "F1 Score: 0.5128205128205129\n",
            "\n",
            "C = 100\n",
            "Accuracy: 0.797752808988764\n",
            "Precision: 0.4166666666666667\n",
            "Recall: 0.7142857142857143\n",
            "F1 Score: 0.5263157894736842\n",
            "\n",
            "Degree = 1\n",
            "Accuracy: 0.797752808988764\n",
            "Precision: 0.4166666666666667\n",
            "Recall: 0.7142857142857143\n",
            "F1 Score: 0.5263157894736842\n",
            "\n",
            "Degree = 0\n",
            "Accuracy: 0.15730337078651685\n",
            "Precision: 0.15730337078651685\n",
            "Recall: 1.0\n",
            "F1 Score: 0.27184466019417475\n",
            "\n",
            "Degree = 3\n",
            "Accuracy: 0.8202247191011236\n",
            "Precision: 0.45454545454545453\n",
            "Recall: 0.7142857142857143\n",
            "F1 Score: 0.5555555555555556\n",
            "\n",
            "Degree = 4\n",
            "Accuracy: 0.797752808988764\n",
            "Precision: 0.4\n",
            "Recall: 0.5714285714285714\n",
            "F1 Score: 0.47058823529411764\n",
            "\n",
            "C = 0.1\n",
            "Accuracy: 0.7752808988764045\n",
            "Precision: 0.4\n",
            "Recall: 0.8571428571428571\n",
            "F1 Score: 0.5454545454545455\n",
            "\n",
            "C = 1\n",
            "Accuracy: 0.797752808988764\n",
            "Precision: 0.4090909090909091\n",
            "Recall: 0.6428571428571429\n",
            "F1 Score: 0.5000000000000001\n",
            "\n",
            "C = 10\n",
            "Accuracy: 0.7752808988764045\n",
            "Precision: 0.35\n",
            "Recall: 0.5\n",
            "F1 Score: 0.4117647058823529\n",
            "\n",
            "C = 100\n",
            "Accuracy: 0.7303370786516854\n",
            "Precision: 0.2727272727272727\n",
            "Recall: 0.42857142857142855\n",
            "F1 Score: 0.33333333333333326\n"
          ]
        }
      ],
      "source": [
        "### Add code here\n",
        "svm_clf_res = SVC(kernel='linear', random_state=42)\n",
        "svm_clf_res.fit(X_train_res, y_train_res)\n",
        "\n",
        "y_pred_res = svm_clf_res.predict(X_test)\n",
        "\n",
        "# Calculate metrics\n",
        "accuracy_res = accuracy_score(y_test, y_pred_res)\n",
        "precision_res = precision_score(y_test, y_pred_res)\n",
        "recall_res = recall_score(y_test, y_pred_res)\n",
        "f1_res = f1_score(y_test, y_pred_res)\n",
        "\n",
        "print(\"Accuracy (Oversampled):\", accuracy_res)\n",
        "print(\"Precision (Oversampled):\", precision_res)\n",
        "print(\"Recall (Oversampled):\", recall_res)\n",
        "print(\"F1 Score (Oversampled):\", f1_res)\n",
        "\n",
        "for C in [0.1, 1, 10, 100]:\n",
        "    svm_clf_linear = SVC(kernel='linear', C=C, random_state=42)\n",
        "    svm_clf_linear.fit(X_train_res, y_train_res)\n",
        "    y_pred_linear = svm_clf_linear.predict(X_test)\n",
        "    print(\"\\nC =\", C)\n",
        "    print(\"Accuracy:\", accuracy_score(y_test, y_pred_linear))\n",
        "    print(\"Precision:\", precision_score(y_test, y_pred_linear))\n",
        "    print(\"Recall:\", recall_score(y_test, y_pred_linear))\n",
        "    print(\"F1 Score:\", f1_score(y_test, y_pred_linear))\n",
        "for degree in [1, 0, 3, 4]:\n",
        "    svm_clf_poly = SVC(kernel='poly', degree=degree, coef0=1, C=1, random_state=42)\n",
        "    svm_clf_poly.fit(X_train_res, y_train_res)\n",
        "    y_pred_poly = svm_clf_poly.predict(X_test)\n",
        "    print(\"\\nDegree =\", degree)\n",
        "    print(\"Accuracy:\", accuracy_score(y_test, y_pred_poly))\n",
        "    print(\"Precision:\", precision_score(y_test, y_pred_poly))\n",
        "    print(\"Recall:\", recall_score(y_test, y_pred_poly))\n",
        "    print(\"F1 Score:\", f1_score(y_test, y_pred_poly))\n",
        "for C in [0.1, 1, 10, 100]:\n",
        "    svm_clf_rbf = SVC(kernel='rbf', C=C, random_state=42)\n",
        "    svm_clf_rbf.fit(X_train_res, y_train_res)\n",
        "    y_pred_rbf = svm_clf_rbf.predict(X_test)\n",
        "    print(\"\\nC =\", C)\n",
        "    print(\"Accuracy:\", accuracy_score(y_test, y_pred_rbf))\n",
        "    print(\"Precision:\", precision_score(y_test, y_pred_rbf))\n",
        "    print(\"Recall:\", recall_score(y_test, y_pred_rbf))\n",
        "    print(\"F1 Score:\", f1_score(y_test, y_pred_rbf))\n"
      ]
    },
    {
      "cell_type": "markdown",
      "metadata": {
        "id": "oquatEvqroqa"
      },
      "source": [
        "### Question 3: Naive Bayes Model (10 points)\n",
        "\n",
        "Implement the Naieve Bayes classifer on the Z dataset.\n",
        "\n",
        "We will assume that each continuous feature $X_i$ of $X$ follow a Gaussian distribution within each class $Y$.\n",
        "\n",
        "- For each class $c$, calculate the mean $(\\mu_c)$ and standard deviation $(\\sigma_c)$ for each feature. These parameters represent the central tendency and spread of the feature values within each class. They can be computed as:\n",
        "\n",
        "   \\begin{align*}\n",
        "   \\mu_c^j &= \\frac{1}{N_c} \\sum_{i=1}^{N_c} X_i^j \\quad \\text{(mean of feature \\(j\\) in class \\(c\\))} \\\\\n",
        "   \\sigma_c^j &= \\sqrt{\\frac{1}{N_c} \\sum_{i=1}^{N_c} (X_i^j - \\mu_c^j)^2} + \\epsilon \\quad \\text{(standard deviation of feature \\(j\\) in class \\(c\\))}\n",
        "   \\end{align*}\n",
        "     \n",
        "   where $N_c$ is the number of data points in class $c$, and $\\varepsilon=1e^{-6}$ is a small constant added for numerical stability.\n",
        "\n",
        "- To make a prediction for a new data point $x$, calculate the probability of $x$ belonging to each class $c$ using the Gaussian probability density function:\n",
        "\n",
        "   \\begin{align*}\n",
        "   P(X^j = x^j | Y = c) = \\frac{1}{\\sqrt{2\\pi}\\sigma_c^j} e^{-\\frac{1}{2}\\left(\\frac{x^j - \\mu_c^j}{\\sigma_c^j}\\right)^2}\n",
        "   \\end{align*}\n",
        "\n",
        "- Calculate the class probability $P(Y = c | X = x)$ as the product of the probabilities of each feature:\n",
        "\n",
        "    \\begin{align*}\n",
        "     P(Y = c | X = x) = P(Y = c) \\prod_{j=1}^{D} P(X^j = x^j | Y = c)\n",
        "    \\end{align*}\n",
        "\n",
        "   where $D$ is the number of features.\n",
        "\n",
        "- Assign the class label to the class with the highest probability:\n",
        "\n",
        "    \\begin{align*}\n",
        "     \\hat{Y} = \\arg\\max_{c} P(Y = c | X = x)\n",
        "     \\end{align*}\n",
        "\n",
        "**Hint:** In the code for Gaussian Naive Bayes, we take logarithms in certain calculations. This is a common technique used to avoid numerical underflow, especially when working with small probabilities."
      ]
    },
    {
      "cell_type": "code",
      "execution_count": null,
      "metadata": {
        "id": "JEIVwXWKrscC",
        "colab": {
          "base_uri": "https://localhost:8080/"
        },
        "outputId": "b846e074-3bb0-4d53-8e2d-0ae0fbd060fd"
      },
      "outputs": [
        {
          "output_type": "stream",
          "name": "stdout",
          "text": [
            "Accuracy: 0.797752808988764\n"
          ]
        }
      ],
      "source": [
        "import numpy as np\n",
        "\n",
        "class GaussianNaiveBayes:\n",
        "\n",
        "    def fit(self, X, y):\n",
        "        self.classes = np.unique(y)\n",
        "        self.parameters = {}\n",
        "        for c in self.classes:\n",
        "          X_c=X[y==c]\n",
        "          self.parameters[c]={\n",
        "              \"mean\": X_c.mean(axis=0),\n",
        "              \"std\": np.sqrt(X_c.var(axis=0)+1e-6)\n",
        "          }\n",
        "\n",
        "\n",
        "    def _calculate_likelihood(self, x, mean, std):\n",
        "      ex=np.exp(-0.5*((x - mean)/std)**2)\n",
        "      return (1/(np.sqrt(2*np.pi)*std))*ex\n",
        "\n",
        "    def _calculate_class_probability(self, x, c):\n",
        "      likeli=self._calculate_likelihood(x, self.parameters[c][\"mean\"], self.parameters[c][\"std\"])\n",
        "      return np.sum(np.log(likeli))\n",
        "\n",
        "    def predict(self, X):\n",
        "      predictions = []\n",
        "      for x in X:\n",
        "        class_probabilities = {c: self._calculate_class_probability(x, c) for c in self.classes}\n",
        "        predictions.append(max(class_probabilities, key=class_probabilities.get))\n",
        "      return np.array(predictions)\n",
        "        ### Code for predicting the class label\n",
        "\n",
        "    def score(self, X, y):\n",
        "        y_pred = self.predict(X)\n",
        "        accuracy = np.mean(y_pred == y)\n",
        "        return accuracy\n",
        "\n",
        "# Initialize and train the Gaussian Naive Bayes classifier\n",
        "gnb = GaussianNaiveBayes()\n",
        "gnb.fit(X_train, y_train)\n",
        "y_pred = gnb.predict(X_test)\n",
        "accuracy = gnb.score(X_test, y_test)\n",
        "print(f\"Accuracy: {accuracy}\")"
      ]
    },
    {
      "cell_type": "markdown",
      "metadata": {
        "id": "4czskeTTCMam"
      },
      "source": [
        "### Question 4: ROC curve and AUROC (15 points)\n",
        "\n",
        "**Task 4.1 (3 points):** Imagine you are a public health researcher investigating the performance of a new diagnostic test for disease Z, which is a potentially life-threatening condition. The test is designed to identify individuals who have the disease. You have collected data from a group of 500 patients who were tested for disease Z, and the results are as follows:\n",
        "\n",
        "Out of 150 patients who actually have disease Z, the test correctly identified 120 of them as positive.\n",
        "However, the test also falsely identified 50 patients who do not have disease Z as positive.\n",
        "\n",
        "* **Precision:** Define precision in the context of this diagnostic test for disease Z. Calculate the precision of the test based on the provided data.\n",
        "* **Recall:** Explain what recall means in this scenario. Calculate the recall of the test based on the provided data.\n",
        "* **F1-score:** Define the F1-score and explain why it is important, especially in the context of diagnosing a serious disease like Z. Calculate the F1-score of the test based on the provided data.\n",
        "* **Specificity:** What is specificity, and why is it relevant when evaluating a diagnostic test like this one? Calculate the specificity of the test based on the provided data.\n",
        "* **Balanced Accuracy:** Describe what balanced accuracy is and why it might be a useful metric in this situation. Calculate the balanced accuracy of the test based on the provided data."
      ]
    },
    {
      "cell_type": "markdown",
      "source": [
        "4.1\n",
        "\n",
        "Precision: Proportion of patients that are correctly identified as having disease out of all who test positive. =120/(120+50)=0.7059\n",
        "\n",
        "Recall: ability of diagnostic test to correctly identify the disease. =120/(120+30)=0.8\n",
        "\n",
        "F1:Harmonic mean of precision and recall, important because it balances the trade-off between precision and recall, providing more holistic evaluation. = 2(0.7059*0.8)/(0.7059+0.8)=0.7493\n",
        "\n",
        "Specificity: It measures the ability of the test to correctly identify patients without disease. In this case, it's crucial to minimize false positive to avoid unnecessary treatment. =300/(300+50)=0.8571\n",
        "\n",
        "Balanced Accuracy: it computes the average of recall and true negative rate. Useful when classes are imbalanced as it ensures errors are taken into account. =(0.8+0.8571)/2=0.8286"
      ],
      "metadata": {
        "id": "5JnjKrM2-H8y"
      }
    },
    {
      "cell_type": "markdown",
      "metadata": {
        "id": "aPOZo4QM5V_y"
      },
      "source": [
        "**Task 4.2 (6 Points)** Plot the ROC curve\n",
        "\n",
        "An ROC curve plots TPR (y-axis) vs. FPR (x-axis) at all classification thresholds. Lowering the classification threshold classifies more items as positive, thus increasing both False Positives and True Positives.\n",
        "\n",
        "See this for more details (https://developers.google.com/machine-learning/crash-course/classification/roc-and-auc)\n",
        "\n",
        "Plot the ROC curve for Disease Z HW1 dataset with SVM classifier. **Note that you are not allowed to use any library function to compute the ROC. You have to do it from scratch.**"
      ]
    },
    {
      "cell_type": "code",
      "execution_count": null,
      "metadata": {
        "id": "aZnZs_QC5oxQ",
        "colab": {
          "base_uri": "https://localhost:8080/",
          "height": 472
        },
        "outputId": "69ba94e7-777b-4969-cb7b-d14e44b12b19"
      },
      "outputs": [
        {
          "output_type": "display_data",
          "data": {
            "text/plain": [
              "<Figure size 640x480 with 1 Axes>"
            ],
            "image/png": "[encoded data removed]"
          },
          "metadata": {}
        }
      ],
      "source": [
        "## Your code to compute and plot ROC goes here\n",
        "import matplotlib.pyplot as plt\n",
        "import numpy as np\n",
        "from sklearn import svm\n",
        "\n",
        "clf = svm.SVC(kernel='linear', C=1, probability=True)\n",
        "clf.fit(X_train, y_train)\n",
        "\n",
        "y_scores = clf.decision_function(X_test)\n",
        "\n",
        "thresholds = np.sort(y_scores)\n",
        "tpr = []\n",
        "fpr = []\n",
        "\n",
        "for threshold in thresholds:\n",
        "    y_p = (y_scores > threshold).astype(int)\n",
        "    TP = np.sum((y_p == 1) & (y_test == 1))\n",
        "    FP = np.sum((y_p == 1) & (y_test == 0))\n",
        "    FN = np.sum((y_p == 0) & (y_test == 1))\n",
        "    TN = np.sum((y_p == 0) & (y_test == 0))\n",
        "    tpr.append(TP / (TP + FN))\n",
        "    fpr.append(FP / (FP + TN))\n",
        "\n",
        "plt.plot(fpr, tpr, marker='.')\n",
        "plt.xlabel('False Positive Rate')\n",
        "plt.ylabel('True Positive Rate')\n",
        "plt.title('ROC Curve')\n",
        "plt.show()\n"
      ]
    },
    {
      "cell_type": "markdown",
      "metadata": {
        "id": "G9sRjUMk592y"
      },
      "source": [
        "**Task 4.3 (6 Points):** Compute the AUC of ROC\n",
        "\n",
        "AUC stands for \"Area under the ROC Curve.\" That is, AUC measures the entire two-dimensional area underneath the entire ROC curve (think integral calculus) from (0,0) to (1,1). AUC provides an aggregate measure of performance across all possible classification thresholds. One way of interpreting AUC is as the probability that the model ranks a random positive example more highly than a random negative example.\n",
        "\n",
        "Compute the AUC of your SVM model. **Note that you are not allowed to use any library function to compute the AUC. You have to do it from scratch.**"
      ]
    },
    {
      "cell_type": "code",
      "execution_count": null,
      "metadata": {
        "id": "DOBw8ACA587S",
        "colab": {
          "base_uri": "https://localhost:8080/"
        },
        "outputId": "362491bc-357f-4d53-c6a1-7daf2309265b"
      },
      "outputs": [
        {
          "output_type": "stream",
          "name": "stdout",
          "text": [
            "AUC: 0.8647619047619047\n"
          ]
        }
      ],
      "source": [
        "sorted_points = sorted(zip(fpr, tpr))\n",
        "fpr_sorted, tpr_sorted = zip(*sorted_points)\n",
        "\n",
        "auc = 0.0\n",
        "for i in range(1, len(fpr_sorted)):\n",
        "    h = fpr_sorted[i] - fpr_sorted[i - 1]\n",
        "    b1 = tpr_sorted[i - 1]\n",
        "    b2 = tpr_sorted[i]\n",
        "    auc += 0.5 * (b1 + b2) * h\n",
        "\n",
        "print(f\"AUC: {auc}\")\n"
      ]
    }
  ],
  "metadata": {
    "colab": {
      "provenance": [],
      "include_colab_link": true
    },
    "kernelspec": {
      "display_name": "Python 3 (ipykernel)",
      "language": "python",
      "name": "python3"
    },
    "language_info": {
      "codemirror_mode": {
        "name": "ipython",
        "version": 3
      },
      "file_extension": ".py",
      "mimetype": "text/x-python",
      "name": "python",
      "nbconvert_exporter": "python",
      "pygments_lexer": "ipython3",
      "version": "3.9.6"
    }
  },
  "nbformat": 4,
  "nbformat_minor": 0
}